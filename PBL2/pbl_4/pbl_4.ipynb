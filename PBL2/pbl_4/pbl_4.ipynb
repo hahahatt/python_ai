{
 "cells": [
  {
   "cell_type": "code",
   "execution_count": 3,
   "id": "6303acd2",
   "metadata": {},
   "outputs": [],
   "source": [
    "import pandas as pd\n",
    "from sklearn.model_selection import train_test_split\n",
    "from sklearn.linear_model import LinearRegression\n",
    "from sklearn.metrics import classification_report\n"
   ]
  },
  {
   "cell_type": "code",
   "execution_count": 10,
   "id": "10307312",
   "metadata": {},
   "outputs": [
    {
     "name": "stdout",
     "output_type": "stream",
     "text": [
      "(1500, 6)\n",
      "ip             0\n",
      "timestamp      0\n",
      "method         0\n",
      "status_code    0\n",
      "size           0\n",
      "label          0\n",
      "dtype: int64\n",
      "0       2024-11-30 09:26:01\n",
      "1       2024-11-30 12:00:34\n",
      "2       2024-12-01 00:22:12\n",
      "3       2024-11-30 19:33:26\n",
      "4       2024-11-30 05:37:26\n",
      "               ...         \n",
      "1495    2024-11-30 05:06:59\n",
      "1496    2024-11-30 17:12:08\n",
      "1497    2024-11-30 21:50:56\n",
      "1498    2024-11-30 08:23:04\n",
      "1499    2024-11-30 21:23:58\n",
      "Name: timestamp, Length: 1500, dtype: object\n"
     ]
    }
   ],
   "source": [
    "df = pd.read_csv('web_server_logs_2.csv')\n",
    "print(df.shape)\n",
    "print(df.isnull().sum())\n",
    "print(df['timestamp'])"
   ]
  },
  {
   "cell_type": "code",
   "execution_count": null,
   "id": "31ab7ed4",
   "metadata": {},
   "outputs": [
    {
     "name": "stdout",
     "output_type": "stream",
     "text": [
      "0      2024-11-30 09:26:01\n",
      "1      2024-11-30 12:00:34\n",
      "2      2024-12-01 00:22:12\n",
      "3      2024-11-30 19:33:26\n",
      "4      2024-11-30 05:37:26\n",
      "               ...        \n",
      "1495   2024-11-30 05:06:59\n",
      "1496   2024-11-30 17:12:08\n",
      "1497   2024-11-30 21:50:56\n",
      "1498   2024-11-30 08:23:04\n",
      "1499   2024-11-30 21:23:58\n",
      "Name: timestamp, Length: 1500, dtype: datetime64[ns]\n"
     ]
    }
   ],
   "source": [
    "# 시간 타입 변환\n",
    "\n",
    "temp_df = df.copy()\n",
    "temp_df['timestamp'] = pd.to_datetime(df['timestamp'])\n",
    "print(temp_df['timestamp'])"
   ]
  },
  {
   "cell_type": "code",
   "execution_count": null,
   "id": "6268ab4b",
   "metadata": {},
   "outputs": [],
   "source": []
  },
  {
   "cell_type": "code",
   "execution_count": null,
   "id": "3f017661",
   "metadata": {},
   "outputs": [],
   "source": []
  }
 ],
 "metadata": {
  "kernelspec": {
   "display_name": ".venv",
   "language": "python",
   "name": "python3"
  },
  "language_info": {
   "codemirror_mode": {
    "name": "ipython",
    "version": 3
   },
   "file_extension": ".py",
   "mimetype": "text/x-python",
   "name": "python",
   "nbconvert_exporter": "python",
   "pygments_lexer": "ipython3",
   "version": "3.9.13"
  }
 },
 "nbformat": 4,
 "nbformat_minor": 5
}
